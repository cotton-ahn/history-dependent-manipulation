{
 "cells": [
  {
   "cell_type": "code",
   "execution_count": 1,
   "id": "0b12fb66",
   "metadata": {},
   "outputs": [],
   "source": [
    "import os\n",
    "import sys\n",
    "import json\n",
    "import numpy as np\n",
    "import torch\n",
    "from torch.utils.data import DataLoader\n",
    "import matplotlib.pyplot as plt\n",
    "from tqdm.notebook import tqdm\n",
    "import random\n",
    "import torchvision\n",
    "from PIL import Image\n",
    "from skimage.transform import resize\n",
    "\n",
    "sys.path.append('./src')\n",
    "from dataset import HDMdataset\n",
    "from models import IT2P_history, IT2P_nonhistory\n",
    "from utils import generate_spatial_batch"
   ]
  },
  {
   "cell_type": "code",
   "execution_count": 2,
   "id": "92bcc346",
   "metadata": {},
   "outputs": [],
   "source": [
    "dictionary = json.load(open('./data/dictionary.json', 'r'))"
   ]
  },
  {
   "cell_type": "code",
   "execution_count": 3,
   "id": "9b41610e",
   "metadata": {},
   "outputs": [],
   "source": [
    "seed = 0\n",
    "random.seed(seed)\n",
    "np.random.seed(seed)\n",
    "torch.manual_seed(seed)\n",
    "torch.cuda.manual_seed(seed)\n",
    "torch.cuda.manual_seed_all(seed)\n",
    "torch.backends.cudnn.deterministic=True\n",
    "torch.backends.cudnn.benchmark=False"
   ]
  },
  {
   "cell_type": "markdown",
   "id": "23648b3d",
   "metadata": {},
   "source": [
    "### Set below history_flag as True to add history information in training."
   ]
  },
  {
   "cell_type": "code",
   "execution_count": 4,
   "id": "8b86404a",
   "metadata": {},
   "outputs": [],
   "source": [
    "history_flag = False"
   ]
  },
  {
   "cell_type": "code",
   "execution_count": 5,
   "id": "3bca2ed3",
   "metadata": {},
   "outputs": [],
   "source": [
    "transform = torchvision.transforms.ToTensor()"
   ]
  },
  {
   "cell_type": "code",
   "execution_count": 6,
   "id": "20cff33a",
   "metadata": {},
   "outputs": [],
   "source": [
    "device = 'cuda'\n",
    "temp = 2 # 2 for models proposed in paper. \n",
    "\n",
    "if history_flag:\n",
    "    model = IT2P_history(512, 2, dictionary, 300, temp, depth=4).to(device)\n",
    "else:\n",
    "    model = IT2P_nonhistory(512, 2, dictionary, 300, temp, depth=4).to(device)"
   ]
  },
  {
   "cell_type": "code",
   "execution_count": 7,
   "id": "48f0c3be",
   "metadata": {
    "scrolled": false
   },
   "outputs": [
    {
     "name": "stdout",
     "output_type": "stream",
     "text": [
      "loaded model\n",
      "3345 2978 2439 2199\n"
     ]
    }
   ],
   "source": [
    "spatial_coords = torch.FloatTensor(generate_spatial_batch(1)).permute(0, 3, 1, 2).to(device)\n",
    "\n",
    "model.load_state_dict(torch.load('./best_models/proposed_wo_history.pth'))\n",
    "model.eval()\n",
    "\n",
    "print('loaded model')\n",
    "\n",
    "data_dir = './test_tasks/'\n",
    "result_dir = './performance/best_proposed_wo_history_rep/'\n",
    "\n",
    "pick_correct = 0 \n",
    "place_correct = 0\n",
    "both_correct = 0\n",
    "pp_cnt = 0\n",
    "task_correct = 0\n",
    "task_cnt = 0\n",
    "thres = 15\n",
    "for d in sorted(os.listdir(data_dir)):\n",
    "    if d[0] != '.':\n",
    "        img_dir = os.path.join(data_dir, d, 'image')\n",
    "        meta_dir = os.path.join(data_dir, d, 'meta')\n",
    "\n",
    "        os.makedirs(os.path.join(result_dir, d), exist_ok=True)\n",
    "\n",
    "        images = []\n",
    "        for fp in sorted(os.listdir(img_dir)):\n",
    "            img_fp = os.path.join(img_dir, fp)\n",
    "            start_img = transform(Image.open(img_fp))[:3] * 2 - 1\n",
    "            images.append(start_img.unsqueeze(0))\n",
    "\n",
    "        num_pp = len(images)\n",
    "        for fp in sorted(os.listdir(meta_dir)):\n",
    "            meta = json.load(open(os.path.join(meta_dir, fp), 'r'))\n",
    "            dist_results = {'pick':[], 'place':[]}\n",
    "            histories = []\n",
    "\n",
    "            for i in range(num_pp):\n",
    "                curr_sentence = meta['sentence'][i]\n",
    "                curr_explicit = meta['explicit'][i]\n",
    "                curr_implicit = meta['implicit'][i]\n",
    "                gt_bbox = meta['bbox'][i]\n",
    "                gt_pick = [(gt_bbox['pick'][0] + gt_bbox['pick'][2] ) / 2,\n",
    "                            (gt_bbox['pick'][1] + gt_bbox['pick'][3] ) / 2]\n",
    "                gt_place = [(gt_bbox['place'][0] + gt_bbox['place'][2] ) / 2,\n",
    "                             (gt_bbox['place'][1] + gt_bbox['place'][3] ) / 2]\n",
    "\n",
    "                language = torch.LongTensor([dictionary[w] for w in curr_sentence.split()]).unsqueeze(0)\n",
    "                time = torch.LongTensor([i]).to(device)\n",
    "                lang_lengths = torch.LongTensor([len(curr_sentence.split())])\n",
    "\n",
    "                with torch.no_grad():\n",
    "                    if history_flag:\n",
    "                        pred, histories = model(images[i].float().to(device), \n",
    "                                                language.long().to(device),\n",
    "                                                lang_lengths, spatial_coords, time, histories)\n",
    "                    else:\n",
    "                        pred = model(images[i].float().to(device), \n",
    "                                     language.long().to(device),\n",
    "                                     lang_lengths, \n",
    "                                     spatial_coords)\n",
    "\n",
    "\n",
    "                pick_pred = resize(pred[:, 0, :, :].squeeze().detach().cpu().numpy(), (256, 256))\n",
    "                place_pred = resize(pred[:, 1, :, :].squeeze().detach().cpu().numpy(), (256, 256))\n",
    "\n",
    "                esti_pick = np.where(pick_pred == np.max(pick_pred))\n",
    "                esti_pick = [esti_pick[1][0], esti_pick[0][0]]\n",
    "                esti_place = np.where(place_pred == np.max(place_pred))\n",
    "                esti_place = [esti_place[1][0], esti_place[0][0]]\n",
    "\n",
    "                pick_dist = np.sqrt((gt_pick[0]-esti_pick[0]) ** 2 + (gt_pick[1]-esti_pick[1])**2)\n",
    "                place_dist = np.sqrt((gt_place[0]-esti_place[0]) ** 2 + (gt_place[1]-esti_place[1])**2)\n",
    "\n",
    "                dist_results['pick'].append([int(esti_pick[0]), int(esti_pick[1])])\n",
    "                dist_results['place'].append([int(esti_place[0]), int(esti_place[1])])\n",
    "\n",
    "                if pick_dist < thres:\n",
    "                    pick_correct += 1\n",
    "                if place_dist < thres:\n",
    "                    place_correct += 1\n",
    "                if pick_dist < thres and place_dist < thres:\n",
    "                    both_correct += 1\n",
    "                pp_cnt += 1\n",
    "            del histories\n",
    "            histories = []\n",
    "            torch.cuda.empty_cache()\n",
    "            json.dump(dist_results, open(os.path.join(result_dir, d, fp), 'w' ))\n",
    "print(pp_cnt, pick_correct, place_correct, both_correct)"
   ]
  },
  {
   "cell_type": "code",
   "execution_count": 8,
   "id": "7cf94c03",
   "metadata": {},
   "outputs": [
    {
     "name": "stdout",
     "output_type": "stream",
     "text": [
      "3345 2978 2439 2199\n"
     ]
    }
   ],
   "source": [
    "print(pp_cnt, pick_correct, place_correct, both_correct)"
   ]
  }
 ],
 "metadata": {
  "kernelspec": {
   "display_name": "py37",
   "language": "python",
   "name": "py37"
  },
  "language_info": {
   "codemirror_mode": {
    "name": "ipython",
    "version": 3
   },
   "file_extension": ".py",
   "mimetype": "text/x-python",
   "name": "python",
   "nbconvert_exporter": "python",
   "pygments_lexer": "ipython3",
   "version": "3.7.10"
  }
 },
 "nbformat": 4,
 "nbformat_minor": 5
}
