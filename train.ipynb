{
 "cells": [
  {
   "cell_type": "code",
   "execution_count": null,
   "id": "e8130618",
   "metadata": {},
   "outputs": [],
   "source": [
    "import os\n",
    "import sys\n",
    "import json\n",
    "import numpy as np\n",
    "import torch\n",
    "from torch.utils.data import DataLoader\n",
    "import matplotlib.pyplot as plt\n",
    "from tqdm.notebook import tqdm\n",
    "import random\n",
    "\n",
    "sys.path.append('./src')\n",
    "from dataset import HDMdataset\n",
    "from models import IT2P_history, IT2P_nonhistory\n",
    "from utils import generate_spatial_batch\n",
    "from model_train import train_history, train_nonhistory"
   ]
  },
  {
   "cell_type": "code",
   "execution_count": null,
   "id": "6bb9d669",
   "metadata": {},
   "outputs": [],
   "source": [
    "seed = 0\n",
    "random.seed(seed)\n",
    "np.random.seed(seed)\n",
    "torch.manual_seed(seed)\n",
    "torch.cuda.manual_seed(seed)\n",
    "torch.cuda.manual_seed_all(seed)\n",
    "torch.backends.cudnn.deterministic=True\n",
    "torch.backends.cudnn.benchmark=False"
   ]
  },
  {
   "cell_type": "code",
   "execution_count": null,
   "id": "cfeaa24f",
   "metadata": {},
   "outputs": [],
   "source": [
    "dictionary = json.load(open('./data/dictionary.json', 'r'))\n",
    "split_info = json.load(open('./data/split.json', 'r'))\n",
    "histories = []"
   ]
  },
  {
   "cell_type": "markdown",
   "id": "a3243f4b",
   "metadata": {},
   "source": [
    "### Set below history_flag as True to add history information in training."
   ]
  },
  {
   "cell_type": "code",
   "execution_count": null,
   "id": "94b3b19a",
   "metadata": {},
   "outputs": [],
   "source": [
    "history_flag = True"
   ]
  },
  {
   "cell_type": "code",
   "execution_count": null,
   "id": "29bf91ec",
   "metadata": {},
   "outputs": [],
   "source": [
    "data_dir = './data'\n",
    "split = 1 # always set to split 1 to compare with results in paper.\n",
    "is_train = True\n",
    "dataset = HDMdataset(data_dir, split, split_info, dictionary, is_train, is_seq=True)\n",
    "dataloader = DataLoader(dataset, batch_size=1, shuffle=True)"
   ]
  },
  {
   "cell_type": "code",
   "execution_count": null,
   "id": "8c78e7e0",
   "metadata": {},
   "outputs": [],
   "source": [
    "device = 'cuda'\n",
    "temp = 2 # 2 for models proposed in paper.\n",
    "if history_flag:\n",
    "    model = IT2P_history(512, 2, dictionary, 300, temp, depth=4).to(device)\n",
    "else:\n",
    "    model = IT2P_nonhistory(512, 2, dictionary, 300, temp, depth=4).to(device)\n",
    "\n",
    "optimizer = torch.optim.Adam(model.parameters(), lr=1e-4) \n",
    "scheduler = torch.optim.lr_scheduler.MultiStepLR(optimizer, milestones=[5000], gamma=0.1)\n",
    "\n",
    "def count_parameters(model):\n",
    "    return sum(p.numel() for p in model.parameters() if p.requires_grad)\n",
    "\n",
    "print('Number of Parameters: ', count_parameters(model))"
   ]
  },
  {
   "cell_type": "code",
   "execution_count": null,
   "id": "804a0dcc",
   "metadata": {
    "scrolled": true
   },
   "outputs": [],
   "source": [
    "max_iter = 8000\n",
    "save_dir = './models/'\n",
    "if history_flag:\n",
    "    model_prefix = 'history_{}.pth'\n",
    "else:\n",
    "    model_prefix = 'nonhistory_{}.pth'\n",
    "os.makedirs(save_dir, exist_ok=True)\n",
    "\n",
    "spatial_coords = torch.FloatTensor(generate_spatial_batch(1)).permute(0, 3, 1, 2).to(device)\n",
    "    \n",
    "for it in tqdm(range(max_iter)):\n",
    "    samples = next(iter(dataloader))\n",
    "    \n",
    "    if history_flag:\n",
    "        loss = train_history(model, optimizer, samples, spatial_coords )\n",
    "    else:\n",
    "        loss = train_nonhistory(model, optimizer, samples, spatial_coords)\n",
    "            \n",
    "    if (it + 1) % 10 == 0:\n",
    "        print('[ITER {}] LOSS: {}'.format(it+1, loss))\n",
    "            \n",
    "    if (it + 1) % 100 == 0:\n",
    "        torch.save(model.state_dict(), os.path.join(save_dir, model_prefix.format(it+1)))\n",
    "    torch.save(model.state_dict(), os.path.join(save_dir, model_prefix.format('recent')))\n",
    "    scheduler.step()   \n",
    "    "
   ]
  }
 ],
 "metadata": {
  "kernelspec": {
   "display_name": "py37",
   "language": "python",
   "name": "py37"
  },
  "language_info": {
   "codemirror_mode": {
    "name": "ipython",
    "version": 3
   },
   "file_extension": ".py",
   "mimetype": "text/x-python",
   "name": "python",
   "nbconvert_exporter": "python",
   "pygments_lexer": "ipython3",
   "version": "3.7.10"
  }
 },
 "nbformat": 4,
 "nbformat_minor": 5
}
